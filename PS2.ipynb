{
 "metadata": {
  "name": "",
  "signature": "sha256:9e688767a2a3fd49d0c7cd3de7eb64427f2ca2e9b2e61a76db5dafbb944a1810"
 },
 "nbformat": 3,
 "nbformat_minor": 0,
 "worksheets": [
  {
   "cells": [
    {
     "cell_type": "markdown",
     "metadata": {},
     "source": [
      "This problem set will address two goals about the titanic data on survivors:\n",
      "\n",
      "    1) What factors made people more likely to survive?\n",
      "\n",
      "    2) Share the findings you found most interesting. "
     ]
    },
    {
     "cell_type": "code",
     "collapsed": false,
     "input": [
      "import pandas as pd\n",
      "import numpy as np\n",
      "from scipy import stats, integrate\n",
      "import matplotlib.pyplot as plt\n",
      "import seaborn as sns"
     ],
     "language": "python",
     "metadata": {},
     "outputs": [],
     "prompt_number": 1
    },
    {
     "cell_type": "markdown",
     "metadata": {},
     "source": [
      "Read in data"
     ]
    },
    {
     "cell_type": "code",
     "collapsed": false,
     "input": [
      "df = pd.read_csv('C:/Users/Nick/Desktop/PS2/titanic_data.csv')"
     ],
     "language": "python",
     "metadata": {},
     "outputs": [],
     "prompt_number": 2
    },
    {
     "cell_type": "markdown",
     "metadata": {},
     "source": [
      "View data"
     ]
    },
    {
     "cell_type": "code",
     "collapsed": false,
     "input": [
      "df.head()"
     ],
     "language": "python",
     "metadata": {},
     "outputs": [
      {
       "html": [
        "<div style=\"max-height:1000px;max-width:1500px;overflow:auto;\">\n",
        "<table border=\"1\" class=\"dataframe\">\n",
        "  <thead>\n",
        "    <tr style=\"text-align: right;\">\n",
        "      <th></th>\n",
        "      <th>PassengerId</th>\n",
        "      <th>Survived</th>\n",
        "      <th>Pclass</th>\n",
        "      <th>Name</th>\n",
        "      <th>Sex</th>\n",
        "      <th>Age</th>\n",
        "      <th>SibSp</th>\n",
        "      <th>Parch</th>\n",
        "      <th>Ticket</th>\n",
        "      <th>Fare</th>\n",
        "      <th>Cabin</th>\n",
        "      <th>Embarked</th>\n",
        "    </tr>\n",
        "  </thead>\n",
        "  <tbody>\n",
        "    <tr>\n",
        "      <th>0</th>\n",
        "      <td> 1</td>\n",
        "      <td> 0</td>\n",
        "      <td> 3</td>\n",
        "      <td>                           Braund, Mr. Owen Harris</td>\n",
        "      <td>   male</td>\n",
        "      <td> 22</td>\n",
        "      <td> 1</td>\n",
        "      <td> 0</td>\n",
        "      <td>        A/5 21171</td>\n",
        "      <td>  7.2500</td>\n",
        "      <td>  NaN</td>\n",
        "      <td> S</td>\n",
        "    </tr>\n",
        "    <tr>\n",
        "      <th>1</th>\n",
        "      <td> 2</td>\n",
        "      <td> 1</td>\n",
        "      <td> 1</td>\n",
        "      <td> Cumings, Mrs. John Bradley (Florence Briggs Th...</td>\n",
        "      <td> female</td>\n",
        "      <td> 38</td>\n",
        "      <td> 1</td>\n",
        "      <td> 0</td>\n",
        "      <td>         PC 17599</td>\n",
        "      <td> 71.2833</td>\n",
        "      <td>  C85</td>\n",
        "      <td> C</td>\n",
        "    </tr>\n",
        "    <tr>\n",
        "      <th>2</th>\n",
        "      <td> 3</td>\n",
        "      <td> 1</td>\n",
        "      <td> 3</td>\n",
        "      <td>                            Heikkinen, Miss. Laina</td>\n",
        "      <td> female</td>\n",
        "      <td> 26</td>\n",
        "      <td> 0</td>\n",
        "      <td> 0</td>\n",
        "      <td> STON/O2. 3101282</td>\n",
        "      <td>  7.9250</td>\n",
        "      <td>  NaN</td>\n",
        "      <td> S</td>\n",
        "    </tr>\n",
        "    <tr>\n",
        "      <th>3</th>\n",
        "      <td> 4</td>\n",
        "      <td> 1</td>\n",
        "      <td> 1</td>\n",
        "      <td>      Futrelle, Mrs. Jacques Heath (Lily May Peel)</td>\n",
        "      <td> female</td>\n",
        "      <td> 35</td>\n",
        "      <td> 1</td>\n",
        "      <td> 0</td>\n",
        "      <td>           113803</td>\n",
        "      <td> 53.1000</td>\n",
        "      <td> C123</td>\n",
        "      <td> S</td>\n",
        "    </tr>\n",
        "    <tr>\n",
        "      <th>4</th>\n",
        "      <td> 5</td>\n",
        "      <td> 0</td>\n",
        "      <td> 3</td>\n",
        "      <td>                          Allen, Mr. William Henry</td>\n",
        "      <td>   male</td>\n",
        "      <td> 35</td>\n",
        "      <td> 0</td>\n",
        "      <td> 0</td>\n",
        "      <td>           373450</td>\n",
        "      <td>  8.0500</td>\n",
        "      <td>  NaN</td>\n",
        "      <td> S</td>\n",
        "    </tr>\n",
        "  </tbody>\n",
        "</table>\n",
        "</div>"
       ],
       "metadata": {},
       "output_type": "pyout",
       "prompt_number": 3,
       "text": [
        "   PassengerId  Survived  Pclass  \\\n",
        "0            1         0       3   \n",
        "1            2         1       1   \n",
        "2            3         1       3   \n",
        "3            4         1       1   \n",
        "4            5         0       3   \n",
        "\n",
        "                                                Name     Sex  Age  SibSp  \\\n",
        "0                            Braund, Mr. Owen Harris    male   22      1   \n",
        "1  Cumings, Mrs. John Bradley (Florence Briggs Th...  female   38      1   \n",
        "2                             Heikkinen, Miss. Laina  female   26      0   \n",
        "3       Futrelle, Mrs. Jacques Heath (Lily May Peel)  female   35      1   \n",
        "4                           Allen, Mr. William Henry    male   35      0   \n",
        "\n",
        "   Parch            Ticket     Fare Cabin Embarked  \n",
        "0      0         A/5 21171   7.2500   NaN        S  \n",
        "1      0          PC 17599  71.2833   C85        C  \n",
        "2      0  STON/O2. 3101282   7.9250   NaN        S  \n",
        "3      0            113803  53.1000  C123        S  \n",
        "4      0            373450   8.0500   NaN        S  "
       ]
      }
     ],
     "prompt_number": 3
    },
    {
     "cell_type": "markdown",
     "metadata": {},
     "source": [
      "View missing observations"
     ]
    },
    {
     "cell_type": "code",
     "collapsed": false,
     "input": [
      "df.count()"
     ],
     "language": "python",
     "metadata": {},
     "outputs": [
      {
       "metadata": {},
       "output_type": "pyout",
       "prompt_number": 4,
       "text": [
        "PassengerId    891\n",
        "Survived       891\n",
        "Pclass         891\n",
        "Name           891\n",
        "Sex            891\n",
        "Age            714\n",
        "SibSp          891\n",
        "Parch          891\n",
        "Ticket         891\n",
        "Fare           891\n",
        "Cabin          204\n",
        "Embarked       889\n",
        "dtype: int64"
       ]
      }
     ],
     "prompt_number": 4
    },
    {
     "cell_type": "markdown",
     "metadata": {},
     "source": [
      "Let's first see if we can impute the missing age data using the titles of passengers. For instance, \"Master\" is a title that refers to male children and \"Mr.\" and \"Mrs.\" tend to refer to adults (people over 18 years of age)."
     ]
    },
    {
     "cell_type": "code",
     "collapsed": false,
     "input": [
      "#Impute missing Ages (714/891 age observations are reported)\n",
      "df['AgeTitle'] = 'Child/Adult'\n",
      "df.ix[df['Name'].str.contains('Master'),'AgeTitle'] = 'Child'\n",
      "df.ix[df['Name'].str.contains('Mr.|Mrs.'),'AgeTitle'] = 'Adult'\n",
      "#Find mean age for people with the corresponding titles\n",
      "child_mean = df.groupby('AgeTitle').agg({'Age': 'mean'})\n",
      "#Replace with mean if child/adult title and missing\n",
      "df['Age'] = df['Age'].replace(df[(df['AgeTitle'] == 'Child') & (df['Age'].isnull())]['Age'], 4.57)\n",
      "df['Age'] = df['Age'].replace(df[(df['AgeTitle'] == 'Adult') & (df['Age'].isnull())]['Age'], 33.12)\n",
      "#Now check how many are missing (854/891 age observations are reported)\n",
      "df.count()"
     ],
     "language": "python",
     "metadata": {},
     "outputs": [
      {
       "metadata": {},
       "output_type": "pyout",
       "prompt_number": 5,
       "text": [
        "PassengerId    891\n",
        "Survived       891\n",
        "Pclass         891\n",
        "Name           891\n",
        "Sex            891\n",
        "Age            854\n",
        "SibSp          891\n",
        "Parch          891\n",
        "Ticket         891\n",
        "Fare           891\n",
        "Cabin          204\n",
        "Embarked       889\n",
        "AgeTitle       891\n",
        "dtype: int64"
       ]
      }
     ],
     "prompt_number": 5
    },
    {
     "cell_type": "markdown",
     "metadata": {},
     "source": [
      "Let's also create some categorical variables to make our analysis easier."
     ]
    },
    {
     "cell_type": "code",
     "collapsed": false,
     "input": [
      "#Create child/adult dummy variable\n",
      "df['Child'] = 0\n",
      "df.ix[df.Age < 18,'Child'] = 1\n",
      "df.ix[df.Age >= 18,'Child'] = 0\n",
      "#Create character equivalents for class and child/adult dummy\n",
      "df['Child2'] = df['Child'].map( {1: ' Child', 0: ' Adult'} ).astype(str)\n",
      "df['Class'] = df['Pclass'].map( {1: '1st ', 2: '2nd ', 3: '3rd '}).astype(str)\n",
      "#Create gender dummy variable\n",
      "df['Gender'] = df['Sex'].map( {'female': 0, 'male': 1} ).astype(int)\n",
      "#Create a count variable\n",
      "df['Total'] = 1"
     ],
     "language": "python",
     "metadata": {},
     "outputs": [],
     "prompt_number": 6
    },
    {
     "cell_type": "markdown",
     "metadata": {},
     "source": [
      "In addition to age, there are a few other variables with missing data."
     ]
    },
    {
     "cell_type": "code",
     "collapsed": false,
     "input": [
      "#First, drop Cabin since there are so many missing.\n",
      "df = df.drop(['Cabin'], axis=1)"
     ],
     "language": "python",
     "metadata": {},
     "outputs": [],
     "prompt_number": 7
    },
    {
     "cell_type": "code",
     "collapsed": false,
     "input": [
      "#Before dropping Embarked what does it tell us? \n",
      "%matplotlib inline\n",
      "#(Note, C = Cherbourg; Q = Queenstown; S = Southampton)\n",
      "sns.barplot(x='Embarked', y='Survived', hue='Class', data=df);\n",
      "sns.plt.show()"
     ],
     "language": "python",
     "metadata": {},
     "outputs": [
      {
       "metadata": {},
       "output_type": "display_data",
       "png": "[encoded data removed]",
       "text": [
        "<matplotlib.figure.Figure at 0x169f6b38>"
       ]
      }
     ],
     "prompt_number": 8
    },
    {
     "cell_type": "code",
     "collapsed": false,
     "input": [
      "#Queenstown defies expectations on survival rates since 2nd class people are more likely to survive than 1st class. \n",
      "#Maybe there are more women and children in 2nd class from Q?\n",
      "sns.barplot(x='Embarked', y='Gender', hue='Child2', data=df);\n",
      "sns.plt.show()"
     ],
     "language": "python",
     "metadata": {},
     "outputs": [
      {
       "metadata": {},
       "output_type": "display_data",
       "png": "[encoded data removed]",
       "text": [
        "<matplotlib.figure.Figure at 0x16a5d550>"
       ]
      }
     ],
     "prompt_number": 9
    },
    {
     "cell_type": "code",
     "collapsed": false,
     "input": [
      "#Looks like we can drop Embarked, since sex and age seem to explain the elevated survival rate in 2nd class Q.\n",
      "df = df.drop(['Embarked'], axis=1)"
     ],
     "language": "python",
     "metadata": {},
     "outputs": [],
     "prompt_number": 10
    },
    {
     "cell_type": "markdown",
     "metadata": {},
     "source": [
      "Now that we dropped two junk variables (Cabin and Embarked) and did our best to impute Age, we can drop the records with missing Ages."
     ]
    },
    {
     "cell_type": "code",
     "collapsed": false,
     "input": [
      "#Drop remaining missing, we lose 37 observations due to missing age data\n",
      "df = df.dropna() \n",
      "df.count()"
     ],
     "language": "python",
     "metadata": {},
     "outputs": [
      {
       "metadata": {},
       "output_type": "pyout",
       "prompt_number": 11,
       "text": [
        "PassengerId    854\n",
        "Survived       854\n",
        "Pclass         854\n",
        "Name           854\n",
        "Sex            854\n",
        "Age            854\n",
        "SibSp          854\n",
        "Parch          854\n",
        "Ticket         854\n",
        "Fare           854\n",
        "AgeTitle       854\n",
        "Child          854\n",
        "Child2         854\n",
        "Class          854\n",
        "Gender         854\n",
        "Total          854\n",
        "dtype: int64"
       ]
      }
     ],
     "prompt_number": 11
    },
    {
     "cell_type": "markdown",
     "metadata": {},
     "source": [
      "Also, there are some variables pertaining to Family Size, let's see if those tell us anything interesting about survival. If not, we can drop those too."
     ]
    },
    {
     "cell_type": "code",
     "collapsed": false,
     "input": [
      "#Create family size variable\n",
      "df['FamilySize'] = df['SibSp'] + df['Parch']\n",
      "sns.barplot(x=\"Survived\", y=\"FamilySize\", data=df);\n",
      "sns.plt.show()\n",
      "#For this analysis we'll ignore family size since there doesn't appear to be a large affect on survival"
     ],
     "language": "python",
     "metadata": {},
     "outputs": [
      {
       "metadata": {},
       "output_type": "display_data",
       "png": "[encoded data removed]",
       "text": [
        "<matplotlib.figure.Figure at 0x16aee978>"
       ]
      }
     ],
     "prompt_number": 12
    },
    {
     "cell_type": "markdown",
     "metadata": {},
     "source": [
      "Next, let's move into the analysis. In this excercise we'll are going to hypothesize that Class, Sex, and the Child/Adult binary determine survival. This is largely based on anecdotal stories about women and children being prioritized in rescue efforts, along with the unfortunate possibility that wealthy people may have had better access to life boats than 2nd and 3rd class passengers."
     ]
    },
    {
     "cell_type": "code",
     "collapsed": false,
     "input": [
      "#Define the variables hypothesized to affect survival\n",
      "keys = ['Class', 'Sex', 'Child2']"
     ],
     "language": "python",
     "metadata": {},
     "outputs": [],
     "prompt_number": 13
    },
    {
     "cell_type": "markdown",
     "metadata": {},
     "source": [
      "Create a function that calculates the share of survivors in each group"
     ]
    },
    {
     "cell_type": "code",
     "collapsed": false,
     "input": [
      "#Use a function to calculate the share of survivors in these groups within each class\n",
      "def pct_def(x): return 100*x/float(x.sum())\n",
      "dfsrv = df.groupby(keys).agg({'Survived': np.sum})\n",
      "pct_srv = dfsrv.groupby(level=0).apply(pct_def)\n",
      "pct_srv"
     ],
     "language": "python",
     "metadata": {},
     "outputs": [
      {
       "html": [
        "<div style=\"max-height:1000px;max-width:1500px;overflow:auto;\">\n",
        "<table border=\"1\" class=\"dataframe\">\n",
        "  <thead>\n",
        "    <tr style=\"text-align: right;\">\n",
        "      <th></th>\n",
        "      <th></th>\n",
        "      <th></th>\n",
        "      <th>Survived</th>\n",
        "    </tr>\n",
        "    <tr>\n",
        "      <th>Class</th>\n",
        "      <th>Sex</th>\n",
        "      <th>Child2</th>\n",
        "      <th></th>\n",
        "    </tr>\n",
        "  </thead>\n",
        "  <tbody>\n",
        "    <tr>\n",
        "      <th rowspan=\"4\" valign=\"top\">1st </th>\n",
        "      <th rowspan=\"2\" valign=\"top\">female</th>\n",
        "      <th> Adult</th>\n",
        "      <td> 61.481481</td>\n",
        "    </tr>\n",
        "    <tr>\n",
        "      <th> Child</th>\n",
        "      <td>  5.185185</td>\n",
        "    </tr>\n",
        "    <tr>\n",
        "      <th rowspan=\"2\" valign=\"top\">male</th>\n",
        "      <th> Adult</th>\n",
        "      <td> 30.370370</td>\n",
        "    </tr>\n",
        "    <tr>\n",
        "      <th> Child</th>\n",
        "      <td>  2.962963</td>\n",
        "    </tr>\n",
        "    <tr>\n",
        "      <th rowspan=\"4\" valign=\"top\">2nd </th>\n",
        "      <th rowspan=\"2\" valign=\"top\">female</th>\n",
        "      <th> Adult</th>\n",
        "      <td> 65.882353</td>\n",
        "    </tr>\n",
        "    <tr>\n",
        "      <th> Child</th>\n",
        "      <td> 14.117647</td>\n",
        "    </tr>\n",
        "    <tr>\n",
        "      <th rowspan=\"2\" valign=\"top\">male</th>\n",
        "      <th> Adult</th>\n",
        "      <td>  9.411765</td>\n",
        "    </tr>\n",
        "    <tr>\n",
        "      <th> Child</th>\n",
        "      <td> 10.588235</td>\n",
        "    </tr>\n",
        "    <tr>\n",
        "      <th rowspan=\"4\" valign=\"top\">3rd </th>\n",
        "      <th rowspan=\"2\" valign=\"top\">female</th>\n",
        "      <th> Adult</th>\n",
        "      <td> 34.000000</td>\n",
        "    </tr>\n",
        "    <tr>\n",
        "      <th> Child</th>\n",
        "      <td> 19.000000</td>\n",
        "    </tr>\n",
        "    <tr>\n",
        "      <th rowspan=\"2\" valign=\"top\">male</th>\n",
        "      <th> Adult</th>\n",
        "      <td> 35.000000</td>\n",
        "    </tr>\n",
        "    <tr>\n",
        "      <th> Child</th>\n",
        "      <td> 12.000000</td>\n",
        "    </tr>\n",
        "  </tbody>\n",
        "</table>\n",
        "</div>"
       ],
       "metadata": {},
       "output_type": "pyout",
       "prompt_number": 14,
       "text": [
        "                      Survived\n",
        "Class Sex    Child2           \n",
        "1st   female  Adult  61.481481\n",
        "              Child   5.185185\n",
        "      male    Adult  30.370370\n",
        "              Child   2.962963\n",
        "2nd   female  Adult  65.882353\n",
        "              Child  14.117647\n",
        "      male    Adult   9.411765\n",
        "              Child  10.588235\n",
        "3rd   female  Adult  34.000000\n",
        "              Child  19.000000\n",
        "      male    Adult  35.000000\n",
        "              Child  12.000000"
       ]
      }
     ],
     "prompt_number": 14
    },
    {
     "cell_type": "markdown",
     "metadata": {},
     "source": [
      "Also let's use the same function to see how many people (survivors and casualties) belonged to these groups."
     ]
    },
    {
     "cell_type": "code",
     "collapsed": false,
     "input": [
      "#Apply function to look at the number of people in these groups within each class\n",
      "dfpop = df.groupby(keys).agg({'Total': np.sum})\n",
      "pct_pop = dfpop.groupby(level=0).apply(pct_def)\n",
      "pct_pop"
     ],
     "language": "python",
     "metadata": {},
     "outputs": [
      {
       "html": [
        "<div style=\"max-height:1000px;max-width:1500px;overflow:auto;\">\n",
        "<table border=\"1\" class=\"dataframe\">\n",
        "  <thead>\n",
        "    <tr style=\"text-align: right;\">\n",
        "      <th></th>\n",
        "      <th></th>\n",
        "      <th></th>\n",
        "      <th>Total</th>\n",
        "    </tr>\n",
        "    <tr>\n",
        "      <th>Class</th>\n",
        "      <th>Sex</th>\n",
        "      <th>Child2</th>\n",
        "      <th></th>\n",
        "    </tr>\n",
        "  </thead>\n",
        "  <tbody>\n",
        "    <tr>\n",
        "      <th rowspan=\"4\" valign=\"top\">1st </th>\n",
        "      <th rowspan=\"2\" valign=\"top\">female</th>\n",
        "      <th> Adult</th>\n",
        "      <td> 39.719626</td>\n",
        "    </tr>\n",
        "    <tr>\n",
        "      <th> Child</th>\n",
        "      <td>  3.738318</td>\n",
        "    </tr>\n",
        "    <tr>\n",
        "      <th rowspan=\"2\" valign=\"top\">male</th>\n",
        "      <th> Adult</th>\n",
        "      <td> 54.672897</td>\n",
        "    </tr>\n",
        "    <tr>\n",
        "      <th> Child</th>\n",
        "      <td>  1.869159</td>\n",
        "    </tr>\n",
        "    <tr>\n",
        "      <th rowspan=\"4\" valign=\"top\">2nd </th>\n",
        "      <th rowspan=\"2\" valign=\"top\">female</th>\n",
        "      <th> Adult</th>\n",
        "      <td> 34.065934</td>\n",
        "    </tr>\n",
        "    <tr>\n",
        "      <th> Child</th>\n",
        "      <td>  6.593407</td>\n",
        "    </tr>\n",
        "    <tr>\n",
        "      <th rowspan=\"2\" valign=\"top\">male</th>\n",
        "      <th> Adult</th>\n",
        "      <td> 53.296703</td>\n",
        "    </tr>\n",
        "    <tr>\n",
        "      <th> Child</th>\n",
        "      <td>  6.043956</td>\n",
        "    </tr>\n",
        "    <tr>\n",
        "      <th rowspan=\"4\" valign=\"top\">3rd </th>\n",
        "      <th rowspan=\"2\" valign=\"top\">female</th>\n",
        "      <th> Adult</th>\n",
        "      <td> 16.593886</td>\n",
        "    </tr>\n",
        "    <tr>\n",
        "      <th> Child</th>\n",
        "      <td>  7.641921</td>\n",
        "    </tr>\n",
        "    <tr>\n",
        "      <th rowspan=\"2\" valign=\"top\">male</th>\n",
        "      <th> Adult</th>\n",
        "      <td> 65.502183</td>\n",
        "    </tr>\n",
        "    <tr>\n",
        "      <th> Child</th>\n",
        "      <td> 10.262009</td>\n",
        "    </tr>\n",
        "  </tbody>\n",
        "</table>\n",
        "</div>"
       ],
       "metadata": {},
       "output_type": "pyout",
       "prompt_number": 15,
       "text": [
        "                         Total\n",
        "Class Sex    Child2           \n",
        "1st   female  Adult  39.719626\n",
        "              Child   3.738318\n",
        "      male    Adult  54.672897\n",
        "              Child   1.869159\n",
        "2nd   female  Adult  34.065934\n",
        "              Child   6.593407\n",
        "      male    Adult  53.296703\n",
        "              Child   6.043956\n",
        "3rd   female  Adult  16.593886\n",
        "              Child   7.641921\n",
        "      male    Adult  65.502183\n",
        "              Child  10.262009"
       ]
      }
     ],
     "prompt_number": 15
    },
    {
     "cell_type": "markdown",
     "metadata": {},
     "source": [
      "Now, let's calculate survival rates for these groups. These results confirm our expectations that women, children, and wealthy people were more likely to survive."
     ]
    },
    {
     "cell_type": "code",
     "collapsed": false,
     "input": [
      "#Calculate survival rates for these groups\n",
      "dfsr = df.groupby(keys).agg({'Survived': np.sum,'Total': np.sum})\n",
      "dfsr['survival_rates'] = dfsr['Survived']/dfsr['Total']\n",
      "dfsr['survival_rates'] "
     ],
     "language": "python",
     "metadata": {},
     "outputs": [
      {
       "metadata": {},
       "output_type": "pyout",
       "prompt_number": 16,
       "text": [
        "Class  Sex     Child2\n",
        "1st    female   Adult    0.976471\n",
        "                Child    0.875000\n",
        "       male     Adult    0.350427\n",
        "                Child    1.000000\n",
        "2nd    female   Adult    0.903226\n",
        "                Child    1.000000\n",
        "       male     Adult    0.082474\n",
        "                Child    0.818182\n",
        "3rd    female   Adult    0.447368\n",
        "                Child    0.542857\n",
        "       male     Adult    0.116667\n",
        "                Child    0.255319\n",
        "Name: survival_rates, dtype: float64"
       ]
      }
     ],
     "prompt_number": 16
    },
    {
     "cell_type": "markdown",
     "metadata": {},
     "source": [
      "Finally, let's visualize these results. The way to interpret these graphs is to look at the differences in the distribution of victims (0 on x axis) vs. distribution of survivors (1 on x axis). In the first chart showing class, survivors disproportionately come from 1st and 2nd class, and 3rd class is not proportionately represented. In the second chart showing the Child/Adult binary, children (1 on y-axis) are better represented in the survivor pool relative to Adults. In the third chart, you can see that men (1 on y axis) are over-represented as victims and women are far more likely to survive compared to men. "
     ]
    },
    {
     "cell_type": "code",
     "collapsed": false,
     "input": [
      "#Finally create a plot visualizing these findings\n",
      "g = sns.PairGrid(df,\n",
      "                 x_vars=['Pclass', 'Child', 'Gender'],\n",
      "                 y_vars=['Survived'],\n",
      "                 aspect=.75, size=3.5)\n",
      "g.map(sns.violinplot, split=True, inner='stick', palette='pastel');\n",
      "sns.plt.show()"
     ],
     "language": "python",
     "metadata": {},
     "outputs": [
      {
       "metadata": {},
       "output_type": "display_data",
       "png": "[encoded data removed]",
       "text": [
        "<matplotlib.figure.Figure at 0x16a27eb8>"
       ]
      }
     ],
     "prompt_number": 17
    },
    {
     "cell_type": "code",
     "collapsed": false,
     "input": [],
     "language": "python",
     "metadata": {},
     "outputs": [],
     "prompt_number": 17
    }
   ],
   "metadata": {}
  }
 ]
}